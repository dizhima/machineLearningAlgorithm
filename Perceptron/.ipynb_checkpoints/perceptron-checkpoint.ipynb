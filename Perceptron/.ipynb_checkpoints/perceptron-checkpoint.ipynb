{
 "cells": [
  {
   "cell_type": "code",
   "execution_count": 1,
   "metadata": {
    "collapsed": true
   },
   "outputs": [],
   "source": [
    "import pandas as pd\n",
    "\n",
    "dataSet=[[24,40,1],\n",
    "        [53,52,-1],\n",
    "        [23,25,-1],\n",
    "        [25,77,1],\n",
    "        [32,48,1],\n",
    "        [52,110,1],\n",
    "        [22,38,1],\n",
    "        [43,44,-1],\n",
    "        [52,27,-1],\n",
    "        [48,65,1]]\n",
    "\n",
    "# dataSet=[[1,1,1],\n",
    "#         [2,-1,-1],\n",
    "#         [-3,-1,-1],\n",
    "#         [-3,1,1]]\n",
    "\n",
    "data=[]\n",
    "labels=[]\n",
    "for example in dataSet:\n",
    "    data.append(example[0:2])\n",
    "    labels.append(example[-1])\n",
    "    \n",
    "# print(data)\n",
    "# print(labels)\n",
    "\n",
    "# df=pd.DataFrame(dataSet)\n",
    "# df.columns=('age','salary','college')\n",
    "# data=df\n",
    "# data=data.drop('college',1)\n",
    "# labels=df['college']\n",
    "# data.to_csv('data.csv')\n",
    "# labels.to_csb('labels.csv')\n"
   ]
  },
  {
   "cell_type": "code",
   "execution_count": 34,
   "metadata": {
    "scrolled": true
   },
   "outputs": [
    {
     "data": {
      "text/plain": [
       "[[-70, 61], -1]"
      ]
     },
     "execution_count": 34,
     "metadata": {},
     "output_type": "execute_result"
    }
   ],
   "source": [
    "# %%file perceptron.py\n",
    "'''\n",
    "Perceptron Learning Algorithm:\n",
    "    Data: D=<(Xn,Yn)>,n in range(N), number of epochs E\n",
    "    Result: weight w and bias b\n",
    "    \n",
    "    PerceptronTrain(D,E):\n",
    "        initialize: w=0 and b=0;\n",
    "        for e in range(E):\n",
    "            for n in range(N), in random order\n",
    "                #predict\n",
    "                a <--(w*Xn+b)\n",
    "                if aY'<=0:\n",
    "                    #update\n",
    "                    w <-- w+Yn*Xn;\n",
    "                    b <-- b+Yn\n",
    "                end\n",
    "            end\n",
    "        end\n",
    "        return w,b \n",
    "'''\n",
    "import random\n",
    "\n",
    "def mistake_number(data,label,w,b):\n",
    "    '''\n",
    "    calculate the mistakes number for certain [w,b]\n",
    "    '''\n",
    "    mistakes=0\n",
    "    for i in range(len(data)):\n",
    "        a=predict(data[i],w,b)\n",
    "        if a*label[i]<=0:\n",
    "            mistakes+=1\n",
    "    return mistakes\n",
    "\n",
    "def predict(x,w,b):\n",
    "    a=0\n",
    "    for i in range(len(x)):\n",
    "        a+=w[i]*x[i]\n",
    "    return a+b\n",
    "\n",
    "def update(x,y,w,b):\n",
    "    b=b+y\n",
    "    for i in range(len(x)):\n",
    "        w[i]+=y*x[i]\n",
    "#     print(w,b)\n",
    "    return[w,b]\n",
    "\n",
    "def PerceptronTrain(data,labels,epochs):\n",
    "    error=[]\n",
    "    #initialize\n",
    "    w=[0]*(len(data[0]))\n",
    "    b=0\n",
    "    for e in range(epochs):\n",
    "        order=list(range(len(data)))\n",
    "        random.shuffle(order)\n",
    "        for i in order:\n",
    "            a=predict(data[i],w,b)\n",
    "            if a*labels[i]<=0:\n",
    "                [w,b]=update(data[i],labels[i],w,b)\n",
    "        error.append(mistake_number(data,labels,w,b))\n",
    "#     print(error)\n",
    "    return [w,b]\n",
    "               \n",
    "PerceptronTrain(data,labels,4)"
   ]
  },
  {
   "cell_type": "code",
   "execution_count": 59,
   "metadata": {},
   "outputs": [
    {
     "data": {
      "text/plain": [
       "2002"
      ]
     },
     "execution_count": 59,
     "metadata": {},
     "output_type": "execute_result"
    }
   ],
   "source": [
    "[w,b]=[[24, 40],1]\n",
    "predict(data[1],w,b)"
   ]
  },
  {
   "cell_type": "code",
   "execution_count": 36,
   "metadata": {},
   "outputs": [
    {
     "data": {
      "image/png": "[encoded data removed]",
      "text/plain": [
       "<matplotlib.figure.Figure at 0x1164687f0>"
      ]
     },
     "execution_count": 36,
     "metadata": {},
     "output_type": "execute_result"
    }
   ],
   "source": [
    "import matplotlib.pyplot as plt\n",
    "import numpy as np\n",
    "\n",
    "a1=[24,53,23,25,32,52,22,43,52,48]\n",
    "a2=[40,52,25,77,48,110,38,44,27,65]\n",
    "a3=[1,0,0,1,1,1,1,0,0,1]\n",
    "\n",
    "fig = plt.figure()\n",
    "ax = fig.add_subplot(1,1,1)\n",
    "for i in range(len(a1)):\n",
    "    if a3[i]==1:\n",
    "        ax.scatter(a1[i],a2[i],color='red')\n",
    "    else:\n",
    "        ax.scatter(a1[i],a2[i],color='blue')\n",
    "fig\n",
    "ax.set_xlabel('age')\n",
    "ax.set_ylabel('salary(k)')\n",
    "ax.set_ylim(0,120)\n",
    "# fig.savefig('2_3.png')\n",
    "\n",
    "[w,b]=PerceptronTrain(data,labels,4)\n",
    "x = np.arange(20,55,0.5)\n",
    "\n",
    "y = np.arange(0,120,0.5)\n",
    "x, y = np.meshgrid(x, y)\n",
    "f = w[0]*x + w[1]*y + b\n",
    "ax.contour(x, y, f,0,colors='k')\n",
    "ax.set_ylim(0,120)\n",
    "\n",
    "fig"
   ]
  },
  {
   "cell_type": "code",
   "execution_count": null,
   "metadata": {
    "collapsed": true
   },
   "outputs": [],
   "source": []
  },
  {
   "cell_type": "code",
   "execution_count": null,
   "metadata": {
    "collapsed": true
   },
   "outputs": [],
   "source": []
  }
 ],
 "metadata": {
  "kernelspec": {
   "display_name": "Python 3",
   "language": "python",
   "name": "python3"
  },
  "language_info": {
   "codemirror_mode": {
    "name": "ipython",
    "version": 3
   },
   "file_extension": ".py",
   "mimetype": "text/x-python",
   "name": "python",
   "nbconvert_exporter": "python",
   "pygments_lexer": "ipython3",
   "version": "3.6.1"
  }
 },
 "nbformat": 4,
 "nbformat_minor": 2
}
