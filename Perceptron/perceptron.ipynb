{
 "cells": [
  {
   "cell_type": "code",
   "execution_count": 8,
   "metadata": {},
   "outputs": [],
   "source": [
    "import pandas as pd\n",
    "\n",
    "dataSet=[[24,40,1],\n",
    "        [53,52,-1],\n",
    "        [23,25,-1],\n",
    "        [25,77,1],\n",
    "        [32,48,1],\n",
    "        [52,110,1],\n",
    "        [22,38,1],\n",
    "        [43,44,-1],\n",
    "        [52,27,-1],\n",
    "        [48,65,1]]\n",
    "\n",
    "data=[]\n",
    "labels=[]\n",
    "for example in dataSet:\n",
    "    data.append(example[0:2])\n",
    "    labels.append(example[-1])\n",
    "    \n",
    "# print(data)\n",
    "# print(labels)\n",
    "\n",
    "# df=pd.DataFrame(dataSet)\n",
    "# df.columns=('age','salary','college')\n",
    "# data=df\n",
    "# data=data.drop('college',1)\n",
    "# labels=df['college']\n",
    "# data.to_csv('data.csv')\n",
    "# labels.to_csb('labels.csv')\n"
   ]
  },
  {
   "cell_type": "code",
   "execution_count": 11,
   "metadata": {},
   "outputs": [
    {
     "data": {
      "text/plain": [
       "[[-51, 59], 0]"
      ]
     },
     "execution_count": 11,
     "metadata": {},
     "output_type": "execute_result"
    }
   ],
   "source": [
    "# %%file perceptron.py\n",
    "'''\n",
    "Perceptron Learning Algorithm:\n",
    "    Data: D=<(Xn,Yn)>,n in range(N), number of epochs E\n",
    "    Result: weight w and bias b\n",
    "    \n",
    "    PerceptronTrain(D,E):\n",
    "        initialize: w=0 and b=0;\n",
    "        for e in range(E):\n",
    "            for n in range(N), in random order\n",
    "                #predict\n",
    "                a <--(w*Xn+b)\n",
    "                if aY'<=0:\n",
    "                    #update\n",
    "                    w <-- w+Yn*Xn;\n",
    "                    b <-- b+Yn\n",
    "                end\n",
    "            end\n",
    "        end\n",
    "        return w,b \n",
    "'''\n",
    "import random\n",
    "\n",
    "def predict(x,w,b):\n",
    "    a=0\n",
    "    for i in range(len(x)):\n",
    "        a=w[i]*x[i]+b\n",
    "    return a\n",
    "\n",
    "def update(x,y,w,b):\n",
    "    b=b+y\n",
    "    for i in range(len(x)):\n",
    "        w[i]=w[i]+y*x[i]\n",
    "    return[w,b]\n",
    "\n",
    "def PerceptronTrain(data,labels,epochs):\n",
    "    #initialize\n",
    "    w=[0]*(len(data[0]))\n",
    "    b=0\n",
    "    for e in range(epochs):\n",
    "#         data=random.shuffle(data)\n",
    "        for i in range(len(data)):\n",
    "            a=predict(data[i],w,b)\n",
    "            if a*labels[i]<=0:\n",
    "                [w,b]=update(data[i],labels[i],w,b)\n",
    "    return [w,b]\n",
    "               \n",
    "PerceptronTrain(data,labels,1)"
   ]
  },
  {
   "cell_type": "code",
   "execution_count": 13,
   "metadata": {},
   "outputs": [
    {
     "data": {
      "image/png": "[encoded data removed]",
      "text/plain": [
       "<matplotlib.figure.Figure at 0x1092f0d68>"
      ]
     },
     "execution_count": 13,
     "metadata": {},
     "output_type": "execute_result"
    }
   ],
   "source": [
    "import matplotlib.pyplot as plt\n",
    "import numpy as np\n",
    "\n",
    "a1=[24,53,23,25,32,52,22,43,52,48]\n",
    "a2=[40,52,25,77,48,110,38,44,27,65]\n",
    "a3=[1,0,0,1,1,1,1,0,0,1]\n",
    "\n",
    "fig = plt.figure()\n",
    "ax = fig.add_subplot(1,1,1)\n",
    "for i in range(len(a1)):\n",
    "    if a3[i]==1:\n",
    "        ax.scatter(a1[i],a2[i],color='red')\n",
    "    else:\n",
    "        ax.scatter(a1[i],a2[i],color='blue')\n",
    "fig\n",
    "ax.set_xlabel('age')\n",
    "ax.set_ylabel('salary(k)')\n",
    "ax.set_ylim(0,120)\n",
    "# fig.savefig('2_3.png')\n",
    "\n",
    "[w,b]=PerceptronTrain(data,labels,1)\n",
    "x = np.arange(20,55,0.5)\n",
    "y = np.arange(0,120,0.5)\n",
    "x, y = np.meshgrid(x, y)\n",
    "f = w[1]*x + w[0]*y + b\n",
    "ax.contour(x, y, f,0,colors='k')\n",
    "ax.set_ylim(0,120)\n",
    "\n",
    "fig"
   ]
  }
 ],
 "metadata": {
  "kernelspec": {
   "display_name": "Python 3",
   "language": "python",
   "name": "python3"
  },
  "language_info": {
   "codemirror_mode": {
    "name": "ipython",
    "version": 3
   },
   "file_extension": ".py",
   "mimetype": "text/x-python",
   "name": "python",
   "nbconvert_exporter": "python",
   "pygments_lexer": "ipython3",
   "version": "3.6.1"
  }
 },
 "nbformat": 4,
 "nbformat_minor": 2
}
